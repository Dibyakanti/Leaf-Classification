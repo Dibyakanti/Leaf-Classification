{
 "cells": [
  {
   "cell_type": "code",
   "execution_count": null,
   "metadata": {
    "_cell_guid": "b1076dfc-b9ad-4769-8c92-a6c4dae69d19",
    "_uuid": "8f2839f25d086af736a60e9eeb907d3b93b6e0e5"
   },
   "outputs": [],
   "source": [
    "import numpy as np\n",
    "from keras import layers\n",
    "from keras.layers import Input, Add, Dense, Activation, Dropout, ZeroPadding2D, BatchNormalization, Flatten, Conv2D, AveragePooling2D, MaxPooling2D, GlobalMaxPooling2D\n",
    "from keras.models import Model, load_model\n",
    "from keras.preprocessing import image\n",
    "from keras.utils import layer_utils\n",
    "from keras.utils.data_utils import get_file\n",
    "from keras.applications.imagenet_utils import preprocess_input\n",
    "import pydot\n",
    "from IPython.display import SVG\n",
    "from keras.utils.vis_utils import model_to_dot\n",
    "from keras.utils import plot_model\n",
    "from keras.initializers import glorot_uniform\n",
    "import scipy.misc\n",
    "from matplotlib.pyplot import imshow\n",
    "%matplotlib inline\n",
    "\n",
    "import keras.backend as K\n",
    "K.set_image_data_format('channels_last')\n",
    "K.set_learning_phase(1)\n",
    "import os\n",
    "import numpy as np\n",
    "import tensorflow as tf\n",
    "import keras"
   ]
  },
  {
   "cell_type": "code",
   "execution_count": null,
   "metadata": {
    "_cell_guid": "79c7e3d0-c299-4dcb-8224-4455121ee9b0",
    "_uuid": "d629ff2d2480ee46fbb7e2d37f6b5fab8052498a"
   },
   "outputs": [],
   "source": [
    "DATADIR = '/kaggle/input/dataset/train'\n",
    "# CATEGORIES = os.listdir(DATADIR)\n",
    "DATADIR1 = '/kaggle/input/dataset/test'\n",
    "# CATEGORIES1 = os.listdir(DATADIR1)\n",
    "train_dir = os.path.join(DATADIR)\n",
    "test_dir = os.path.join(DATADIR1)"
   ]
  },
  {
   "cell_type": "code",
   "execution_count": null,
   "metadata": {},
   "outputs": [],
   "source": [
    "from tensorflow.keras.preprocessing.image import ImageDataGenerator\n",
    "\n",
    "train_datagen = ImageDataGenerator(rescale = 1. / 255)\n",
    "train_generator = train_datagen.flow_from_directory(train_dir ,\n",
    "                                                    target_size = (224 , 224) ,\n",
    "                                                    batch_size = 32 ,\n",
    "                                                    class_mode = \"categorical\" )\n",
    "validation_generator = train_datagen.flow_from_directory(test_dir ,\n",
    "                                                    target_size = (224 , 224) ,\n",
    "                                                    batch_size = 32 ,\n",
    "                                                    class_mode = \"categorical\" )"
   ]
  },
  {
   "cell_type": "code",
   "execution_count": null,
   "metadata": {},
   "outputs": [],
   "source": [
    "def inception_block(X, filters, stage, block):\n",
    "    \"\"\"  \n",
    "    Returns:\n",
    "    X -- output of the identity block, tensor of shape (n_H, n_W, n_C)\n",
    "    \"\"\"\n",
    "    \n",
    "    # defining name basis\n",
    "    conv_name_base = 'res' + str(stage) + block + '_branch'\n",
    "    bn_name_base = 'bn' + str(stage) + block + '_branch'\n",
    "    \n",
    "    # Retrieve Filters\n",
    "    F1, F2, F3 = filters\n",
    "    \n",
    "    # Save the input value. You'll need this later to add back to the main path. \n",
    "    X_path1 = X\n",
    "    X_path2 = X\n",
    "    X_path3 = X\n",
    "    X_shortcut = X\n",
    "    \n",
    "    # First component of main path\n",
    "    X_path1 = Conv2D(filters = F1, kernel_size = (1, 1), padding = 'same', name = conv_name_base + '2a')(X_path1)\n",
    "    X_path1 = BatchNormalization(axis = 3, name = bn_name_base + '2a')(X_path1)\n",
    "\n",
    "    # Second component of main path\n",
    "    X_path2 = Conv2D(filters = F2, kernel_size = (3, 3), padding = 'same', name = conv_name_base + '2b')(X_path2)\n",
    "    X_path2 = BatchNormalization(axis = 3, name = bn_name_base + '2b')(X_path2)\n",
    "\n",
    "    # Third component of main path\n",
    "    X_path3 = Conv2D(filters = F3, kernel_size = (5, 5), padding = 'same', name = conv_name_base + '2c')(X_path3)\n",
    "    X_path3 = BatchNormalization(axis = 3, name = bn_name_base + '2c')(X_path3)\n",
    "\n",
    "    # Final step: Add shortcut value to main path, and pass it through a RELU activation\n",
    "    X = layers.Concatenate(axis = -1)([X_path1, X_path2, X_path3, X_shortcut])\n",
    "    X = Activation('relu')(X)\n",
    "    \n",
    "    return X"
   ]
  },
  {
   "cell_type": "code",
   "execution_count": null,
   "metadata": {},
   "outputs": [],
   "source": [
    "def DeceptiNet(input_shape = (224,224,3), classes = 185):\n",
    "     \n",
    "    X_input = Input(input_shape)\n",
    "#     X = ZeroPadding2D((16, 16))(X_input)\n",
    "\n",
    "    X = Conv2D(8, (7, 7), padding = 'same', name = 'conv0', kernel_initializer = glorot_uniform(seed=0))(X_input)\n",
    "    X = Conv2D(32, (7, 7), strides = (2, 2), name = 'conv1', kernel_initializer = glorot_uniform(seed=0))(X)\n",
    "    X = BatchNormalization(axis = 3, name = 'bn_conv1')(X)\n",
    "    X = Activation('relu')(X)\n",
    "    X = MaxPooling2D((7, 7), strides=(2, 2))(X)\n",
    "    \n",
    "    X = inception_block(X, [32,32,32], 2, 'inception_1')\n",
    "    \n",
    "    X = Conv2D(256, (7, 7), strides = (2,2), name = 'conv2')(X)\n",
    "    X = BatchNormalization(axis = 3, name = 'bn_conv2')(X)\n",
    "    X = Activation('relu')(X)\n",
    "    X = MaxPooling2D((3, 3), strides=(2, 2))(X)\n",
    "    \n",
    "    X = Conv2D(512, (7, 7), name = 'conv3')(X)\n",
    "    X = BatchNormalization(axis = 3, name = 'bn_conv3')(X)\n",
    "    X = Activation('relu')(X)\n",
    "    X = AveragePooling2D((3, 3), strides=(2, 2))(X)\n",
    "    \n",
    "    X = Flatten()(X)\n",
    "    X = Dense(2048, activation='relu', name='fc-1')(X)\n",
    "  #  X = Dropout(0.2)(X)\n",
    "    X = Dense(1024, activation='relu', name='fc-2')(X)\n",
    "   # X = Dropout(0.2)(X)\n",
    "    X = Dense(512, activation='relu', name='fc-3')(X)\n",
    "    X = Dense(256, activation='relu', name='fc-4')(X)\n",
    "# X = Dropout(0.2)(X)\n",
    "    #     X = Dropout(0.5)(X)\n",
    "    X = Dense(classes, activation='softmax', name='fc' + str(classes))(X)\n",
    "\n",
    "    model = Model(inputs = X_input, outputs = X, name='DeceptiNet')\n",
    "    return model"
   ]
  },
  {
   "cell_type": "code",
   "execution_count": null,
   "metadata": {},
   "outputs": [],
   "source": [
    "model = DeceptiNet()\n",
    "model.summary()"
   ]
  },
  {
   "cell_type": "code",
   "execution_count": null,
   "metadata": {},
   "outputs": [],
   "source": [
    "model.compile(optimizer=keras.optimizers.Adam(learning_rate=0.001, beta_1=0.9, beta_2=0.999), loss='categorical_crossentropy', metrics=['accuracy'])"
   ]
  },
  {
   "cell_type": "code",
   "execution_count": null,
   "metadata": {},
   "outputs": [],
   "source": [
    "history = model.fit_generator(train_generator,\n",
    "                              steps_per_epoch = 772,\n",
    "                              epochs = 50,\n",
    "                              validation_data = validation_generator,\n",
    "                              validation_steps = 97,\n",
    "                              verbose = 1)"
   ]
  },
  {
   "cell_type": "code",
   "execution_count": null,
   "metadata": {},
   "outputs": [],
   "source": [
    "from IPython.display import FileLink\n",
    "FileLink(r'Final_Model.h5')"
   ]
  },
  {
   "cell_type": "code",
   "execution_count": null,
   "metadata": {},
   "outputs": [],
   "source": []
  }
 ],
 "metadata": {
  "kernelspec": {
   "display_name": "Python 3",
   "language": "python",
   "name": "python3"
  },
  "language_info": {
   "codemirror_mode": {
    "name": "ipython",
    "version": 3
   },
   "file_extension": ".py",
   "mimetype": "text/x-python",
   "name": "python",
   "nbconvert_exporter": "python",
   "pygments_lexer": "ipython3",
   "version": "3.6.8"
  }
 },
 "nbformat": 4,
 "nbformat_minor": 1
}
